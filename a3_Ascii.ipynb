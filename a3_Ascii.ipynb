{
 "cells": [
  {
   "cell_type": "code",
   "execution_count": null,
   "id": "4cee3385-e0b1-48ee-bea3-c6872766c62a",
   "metadata": {},
   "outputs": [],
   "source": [
    "'''Write a Python Program using Perceptron Neural Network to recognise \n",
    "even and odd numbers. Given numbers are in ASCII form 0 to 9'''"
   ]
  },
  {
   "cell_type": "code",
   "execution_count": 6,
   "id": "539b5f13-add8-4c5d-bf1e-68069bb8f8c9",
   "metadata": {},
   "outputs": [
    {
     "name": "stdout",
     "output_type": "stream",
     "text": [
      "input: [0 0 0 0 0 0 0 0 0 1],predicited: even\n",
      "input: [1 0 0 0 0 0 0 0 0 0],predicited: odd\n",
      "input: [0 0 0 0 0 0 1 0 0 0],predicited: odd\n",
      "input: [0 0 0 0 0 1 0 0 0 0],predicited: even\n",
      "input: [0 0 0 0 0 0 0 0 1 0],predicited: odd\n",
      "input: [0 1 0 0 0 0 0 0 0 0],predicited: even\n",
      "input: [0 0 0 0 0 0 0 1 0 0],predicited: even\n"
     ]
    }
   ],
   "source": [
    "import sklearn as skl\n",
    "import numpy as np\n",
    "from sklearn.linear_model import Perceptron\n",
    "input=np.array([[0,0,0,0,0,0,0,0,0,1],#0\n",
    "                [0,0,0,0,0,0,0,0,1,0],#1\n",
    "                [0,0,0,0,0,0,0,1,0,0],#2\n",
    "                [0,0,0,0,0,0,1,0,0,0],#3\n",
    "                [0,0,0,0,0,1,0,0,0,0],#4\n",
    "                [0,0,0,0,1,0,0,0,0,0],#5\n",
    "                [0,0,0,1,0,0,0,0,0,0],#6\n",
    "                [0,0,1,0,0,0,0,0,0,0],#7\n",
    "                [0,1,0,0,0,0,0,0,0,0],#8\n",
    "                [1,0,0,0,0,0,0,0,0,0],#9\n",
    "       ])\n",
    "y=np.array([0,1,0,1,0,1,0,1,0,1])\n",
    "\n",
    "perceptron=Perceptron(max_iter=100, tol=None)\n",
    "perceptron.fit(input,y)\n",
    "test_input=np.array([\n",
    "    [0,0,0,0,0,0,0,0,0,1],#0\n",
    "    [1,0,0,0,0,0,0,0,0,0],#9\n",
    "    [0,0,0,0,0,0,1,0,0,0],#3\n",
    "    [0,0,0,0,0,1,0,0,0,0],#4\n",
    "    [0,0,0,0,0,0,0,0,1,0],#1\n",
    "    [0,1,0,0,0,0,0,0,0,0],#8\n",
    "    [0,0,0,0,0,0,0,1,0,0],#2\n",
    "])\n",
    "for test in test_input:\n",
    "    predict=perceptron.predict([test])\n",
    "    if(predict==1):\n",
    "        print(f\"input: {test},predicited: odd\")\n",
    "    else:\n",
    "        print(f\"input: {test},predicited: even\")"
   ]
  },
  {
   "cell_type": "code",
   "execution_count": null,
   "id": "3496d63d-fb30-45e0-a567-eaa331ed03d3",
   "metadata": {},
   "outputs": [],
   "source": []
  }
 ],
 "metadata": {
  "kernelspec": {
   "display_name": "Python 3 (ipykernel)",
   "language": "python",
   "name": "python3"
  },
  "language_info": {
   "codemirror_mode": {
    "name": "ipython",
    "version": 3
   },
   "file_extension": ".py",
   "mimetype": "text/x-python",
   "name": "python",
   "nbconvert_exporter": "python",
   "pygments_lexer": "ipython3",
   "version": "3.11.7"
  }
 },
 "nbformat": 4,
 "nbformat_minor": 5
}
