{
 "cells": [
  {
   "cell_type": "code",
   "execution_count": null,
   "id": "6b65cace-baf8-477e-87b6-74160ba0e82d",
   "metadata": {},
   "outputs": [],
   "source": [
    "'''Generate ANDNOT function using McCulloch-Pitts \n",
    "neural net by a python  program.'''"
   ]
  },
  {
   "cell_type": "code",
   "execution_count": 1,
   "id": "f5955a8a-d1f2-4c45-99d0-073ce9eef75c",
   "metadata": {},
   "outputs": [
    {
     "name": "stdout",
     "output_type": "stream",
     "text": [
      "ANDNOT(0, 0) = 1\n",
      "ANDNOT(0, 1) = 1\n",
      "ANDNOT(1, 0) = 0\n",
      "ANDNOT(1, 1) = 1\n"
     ]
    }
   ],
   "source": [
    "import numpy as np\n",
    "\n",
    "# McCulloch-Pitts neuron implementation\n",
    "def mcculloch_pitts(inputs, weights, threshold):\n",
    "    net_input = np.dot(inputs, weights)\n",
    "    if net_input >= threshold:\n",
    "        return 1\n",
    "    else:\n",
    "        return 0\n",
    "\n",
    "# Define the ANDNOT function\n",
    "def ANDNOT(x1, x2):\n",
    "    # Weights and threshold for ANDNOT function\n",
    "    weights = np.array([-1, 1])  # weights for x1, x2 respectively\n",
    "    threshold = 0  # threshold\n",
    "    \n",
    "    # Inputs for ANDNOT function\n",
    "    inputs = np.array([x1, x2])\n",
    "    \n",
    "    # Compute output using McCulloch-Pitts neuron\n",
    "    return mcculloch_pitts(inputs, weights, threshold)\n",
    "\n",
    "# Test the ANDNOT function\n",
    "print(\"ANDNOT(0, 0) =\", ANDNOT(0, 0))\n",
    "print(\"ANDNOT(0, 1) =\", ANDNOT(0, 1))\n",
    "print(\"ANDNOT(1, 0) =\", ANDNOT(1, 0))\n",
    "print(\"ANDNOT(1, 1) =\", ANDNOT(1, 1))\n"
   ]
  },
  {
   "cell_type": "code",
   "execution_count": null,
   "id": "a525388a-e41d-491b-976f-6961f718436e",
   "metadata": {},
   "outputs": [],
   "source": []
  },
  {
   "cell_type": "code",
   "execution_count": null,
   "id": "899e20f7-7127-4a28-ac06-cb1a7141ec51",
   "metadata": {},
   "outputs": [],
   "source": [
    "#importing libraries\n",
    "import numpy as np\n",
    "def linear_threshold_gate(dot, T):\n",
    "    \"Returns the binary threshold\"\n",
    "    if dot >= T:\n",
    "        return  1\n",
    "    else:\n",
    "        return  0\n",
    "w1 = float(input('Enter the weight for x1: '))\n",
    "w2 = float(input('Enter the weight for x2: '))\n",
    "theta = float(input('Enter the threshold (theta): '))\n",
    "x1 = [0,0,1,1]\n",
    "x2 = [0,1,0,1]\n",
    "y = [0,0,0,0]\n",
    "z = [0,0,1,0]\n",
    "for i in range(4):\n",
    "    zin = (x1[i] * w1) + (x2[i] * w2)\n",
    "    y[i] = linear_threshold_gate(zin, theta)\n",
    "    print(y[i])\n",
    "if y==z:\n",
    "    con=0\n",
    "    print(\"ANDNOT function\")\n",
    "else:\n",
    "    print(\"Not ANDNOT function\")"
   ]
  },
  {
   "cell_type": "code",
   "execution_count": null,
   "id": "b1bf6b4b-7d31-470a-9fa9-485ab7195a7c",
   "metadata": {},
   "outputs": [],
   "source": []
  }
 ],
 "metadata": {
  "kernelspec": {
   "display_name": "Python 3 (ipykernel)",
   "language": "python",
   "name": "python3"
  },
  "language_info": {
   "codemirror_mode": {
    "name": "ipython",
    "version": 3
   },
   "file_extension": ".py",
   "mimetype": "text/x-python",
   "name": "python",
   "nbconvert_exporter": "python",
   "pygments_lexer": "ipython3",
   "version": "3.11.7"
  }
 },
 "nbformat": 4,
 "nbformat_minor": 5
}
