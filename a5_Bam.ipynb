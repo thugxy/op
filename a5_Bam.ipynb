{
 "cells": [
  {
   "cell_type": "code",
   "execution_count": null,
   "id": "d1535c2a-1bfc-4a1c-8052-c17268848650",
   "metadata": {},
   "outputs": [],
   "source": [
    "'''5. Write a python Program for Bidirectional Associative Memory with two pairs of vectors.'''"
   ]
  },
  {
   "cell_type": "code",
   "execution_count": 1,
   "id": "1dde83c3-ec53-4009-98f7-ec602506ce99",
   "metadata": {},
   "outputs": [
    {
     "name": "stdout",
     "output_type": "stream",
     "text": [
      "Recalling from [1, -1, 1, -1]: [ 1. -1.]\n",
      "Recalling from [-1, 1, -1, 1]: [-1.  1.]\n"
     ]
    }
   ],
   "source": [
    "import numpy as np\n",
    "\n",
    "class BAM:\n",
    "    def __init__(self, input_size, output_size):\n",
    "        self.weights = np.zeros((output_size, input_size))\n",
    "    \n",
    "    def train(self, input_patterns, output_patterns):\n",
    "        self.weights += np.dot(output_patterns.T, input_patterns)\n",
    "    \n",
    "    def recall(self, input_pattern):\n",
    "        return np.sign(np.dot(self.weights, input_pattern))\n",
    "\n",
    "# Input and output patterns\n",
    "input_patterns = np.array([[1, -1, 1, -1], [-1, 1, -1, 1]])\n",
    "output_patterns = np.array([[1, -1], [-1, 1]])\n",
    "\n",
    "# BAM model\n",
    "bam = BAM(input_size=input_patterns.shape[1], output_size=output_patterns.shape[1])\n",
    "\n",
    "# Train BAM\n",
    "bam.train(input_patterns, output_patterns)\n",
    "\n",
    "# Recall patterns\n",
    "print(\"Recalling from [1, -1, 1, -1]:\", bam.recall([1, -1, 1, -1]))\n",
    "print(\"Recalling from [-1, 1, -1, 1]:\", bam.recall([-1, 1, -1, 1]))\n"
   ]
  },
  {
   "cell_type": "code",
   "execution_count": 2,
   "id": "e3e858b9-ab17-4951-8121-8267c1b0dc9b",
   "metadata": {},
   "outputs": [
    {
     "name": "stdout",
     "output_type": "stream",
     "text": [
      "Input x:  [-1 -1 -1 -1]\n",
      "Output y:  [-1  1]\n"
     ]
    }
   ],
   "source": [
    "#Write a python program for bidirectional associative memory with two pairs of vectors\n",
    "\n",
    "import numpy as np\n",
    "\n",
    "# define two pairs of vectors \n",
    "x1 = np.array([1, 1, 1, -1])\n",
    "y1 = np.array([1, -1])\n",
    "x2 = np.array([-1, -1, 1, 1]) \n",
    "y2 = np.array([-1, 1])\n",
    "\n",
    "# compute weight matrix W\n",
    "W = np.outer(y1, x1) + np.outer(y2, x2)\n",
    "\n",
    "# define BAM function \n",
    "def bam(x):\n",
    "    y = W @ x\n",
    "    return np.where(y>=0, 1, -1)\n",
    "\n",
    "# test BAM with inputs\n",
    "x_test = np.array([-1, -1, -1, -1]) \n",
    "y_test = bam(x_test)\n",
    "\n",
    "# print output \n",
    "print(\"Input x: \", x_test) \n",
    "print(\"Output y: \", y_test)\n"
   ]
  },
  {
   "cell_type": "code",
   "execution_count": null,
   "id": "dfdde6ea-ca39-472f-96e1-9d91aba96f9e",
   "metadata": {},
   "outputs": [],
   "source": []
  }
 ],
 "metadata": {
  "kernelspec": {
   "display_name": "Python 3 (ipykernel)",
   "language": "python",
   "name": "python3"
  },
  "language_info": {
   "codemirror_mode": {
    "name": "ipython",
    "version": 3
   },
   "file_extension": ".py",
   "mimetype": "text/x-python",
   "name": "python",
   "nbconvert_exporter": "python",
   "pygments_lexer": "ipython3",
   "version": "3.11.7"
  }
 },
 "nbformat": 4,
 "nbformat_minor": 5
}
