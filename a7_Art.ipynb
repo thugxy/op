{
 "cells": [
  {
   "cell_type": "code",
   "execution_count": null,
   "id": "2fc03fd1-d854-4ff6-9f9f-0c9d109a6626",
   "metadata": {},
   "outputs": [],
   "source": [
    "'''Write a python program to illustrate ART neural network.'''"
   ]
  },
  {
   "cell_type": "code",
   "execution_count": 4,
   "id": "804509b9-35db-4a7e-ae1f-40d2908869c8",
   "metadata": {},
   "outputs": [
    {
     "name": "stdout",
     "output_type": "stream",
     "text": [
      "Input [1, 0, 1, 0, 1] matches an existing category.\n",
      "Input [0, 1, 0, 1, 0] matches an existing category.\n",
      "Input [1, 1, 0, 0, 1] matches an existing category.\n",
      "Input [0, 1, 1, 0, 0] matches an existing category.\n"
     ]
    }
   ],
   "source": [
    "import numpy as np\n",
    "\n",
    "def normalize_input(input_vector):\n",
    "    return input_vector / np.sum(input_vector)\n",
    "    \n",
    "def calculate_category_strength(weights, input_vector):\n",
    "    return np.dot(weights, input_vector)\n",
    "    \n",
    "def update_weights(weights, input_vector):\n",
    "    return np.maximum(weights, input_vector)\n",
    "    \n",
    "def train(weights, vigilance_parameter, input_vector):\n",
    "    input_vector = normalize_input(input_vector)\n",
    "    category_strength = calculate_category_strength(weights, input_vector)\n",
    "    if category_strength >= vigilance_parameter:\n",
    "        weights = update_weights(weights, input_vector)\n",
    "        return weights, True\n",
    "    else:\n",
    "        weights = input_vector\n",
    "        return weights, True\n",
    "        \n",
    "weights = np.zeros(5)                  # Initialize variables\n",
    "vigilance_parameter = 0.5\n",
    "training_data = [\n",
    "    [1, 0, 1, 0, 1],\n",
    "    [0, 1, 1, 0, 0],         # Training data\n",
    "    [1, 1, 0, 0, 1]\n",
    "]\n",
    "\n",
    "for input_vector in training_data:                          # Train the ART network\n",
    "    weights, matching = train(weights, vigilance_parameter, input_vector)\n",
    "test_data = [                               #test data\n",
    "    [1, 0, 1, 0, 1],\n",
    "    [0, 1, 0, 1, 0],\n",
    "    [1, 1, 0, 0, 1],\n",
    "    [0, 1, 1, 0, 0]\n",
    "]\n",
    "\n",
    "for input_vector in test_data:                # Test the ART network\n",
    "    weights, matching = train(weights, vigilance_parameter, input_vector)\n",
    "    if matching:\n",
    "        print(f\"Input {input_vector} matches an existing category.\")\n",
    "    else:\n",
    "        print(f\"Input {input_vector} does not match any existing category.\")"
   ]
  },
  {
   "cell_type": "code",
   "execution_count": null,
   "id": "2677df1c-3664-4fcc-93bd-8164df8910a7",
   "metadata": {},
   "outputs": [],
   "source": []
  }
 ],
 "metadata": {
  "kernelspec": {
   "display_name": "Python 3 (ipykernel)",
   "language": "python",
   "name": "python3"
  },
  "language_info": {
   "codemirror_mode": {
    "name": "ipython",
    "version": 3
   },
   "file_extension": ".py",
   "mimetype": "text/x-python",
   "name": "python",
   "nbconvert_exporter": "python",
   "pygments_lexer": "ipython3",
   "version": "3.11.7"
  }
 },
 "nbformat": 4,
 "nbformat_minor": 5
}
